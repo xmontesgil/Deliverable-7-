{
  "nbformat": 4,
  "nbformat_minor": 0,
  "metadata": {
    "colab": {
      "provenance": []
    },
    "kernelspec": {
      "name": "python3",
      "display_name": "Python 3"
    },
    "language_info": {
      "name": "python"
    }
  },
  "cells": [
    {
      "cell_type": "code",
      "execution_count": 16,
      "metadata": {
        "id": "26DRs3NMVHhi"
      },
      "outputs": [],
      "source": [
        "import pandas as pd"
      ]
    },
    {
      "cell_type": "code",
      "source": [
        "# Ask the user to enter an integer value greater than 0\n",
        "n = int(input(\"Enter an integer value greater than 0: \"))"
      ],
      "metadata": {
        "id": "425ql3j9XCW2",
        "colab": {
          "base_uri": "https://localhost:8080/"
        },
        "outputId": "e13be303-a7fa-4f0b-e9ae-9d48890041d8"
      },
      "execution_count": 13,
      "outputs": [
        {
          "name": "stdout",
          "output_type": "stream",
          "text": [
            "Enter an integer value greater than 0: 4\n"
          ]
        }
      ]
    },
    {
      "cell_type": "code",
      "source": [
        "#Use conditional statement to check user's entry is greater than 0\n",
        "if n < 0:\n",
        "  print(\"Invalid input. Please enter an integer value greater than 0.\")\n",
        "else:\n",
        "  even_numbers = [2*i for i in range(n)]\n",
        "  odd_numbers = [2*i+1 for i in range(n)]\n",
        "  fibonacci_numbers = [0,1]\n",
        "  if n > 2:\n",
        "    for i in range(2,n):\n",
        "        fibonacci_numbers.append(fibonacci_numbers[i-1] + fibonacci_numbers[i-2])\n"
      ],
      "metadata": {
        "id": "djGJJcdXYqek"
      },
      "execution_count": 14,
      "outputs": []
    },
    {
      "cell_type": "code",
      "source": [
        "# Display the results in a data frame format \n",
        "df = pd.DataFrame({'Even': even_numbers, 'Odd': odd_numbers, 'Fibonacci': fibonacci_numbers})\n",
        "print(df)"
      ],
      "metadata": {
        "colab": {
          "base_uri": "https://localhost:8080/"
        },
        "id": "EbxjYXLhm9gL",
        "outputId": "0f926f7f-da45-4cdf-ed75-53ce369408d1"
      },
      "execution_count": 17,
      "outputs": [
        {
          "output_type": "stream",
          "name": "stdout",
          "text": [
            "   Even  Odd  Fibonacci\n",
            "0     0    1          0\n",
            "1     2    3          1\n",
            "2     4    5          1\n",
            "3     6    7          2\n"
          ]
        }
      ]
    }
  ]
}